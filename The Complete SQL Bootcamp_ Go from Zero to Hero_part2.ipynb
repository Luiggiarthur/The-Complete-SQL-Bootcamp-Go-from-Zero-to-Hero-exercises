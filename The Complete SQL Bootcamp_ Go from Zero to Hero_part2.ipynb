{
 "cells": [
  {
   "cell_type": "markdown",
   "id": "10425645",
   "metadata": {},
   "source": [
    "# Exercises from The Complete SQL Bootcamp: Go from Zero to Hero"
   ]
  },
  {
   "cell_type": "markdown",
   "id": "21b56ce0",
   "metadata": {},
   "source": [
    "## ASSESSMENT TEST 2"
   ]
  },
  {
   "cell_type": "code",
   "execution_count": 2,
   "id": "cc354e07",
   "metadata": {},
   "outputs": [
    {
     "name": "stdout",
     "output_type": "stream",
     "text": [
      "Requirement already satisfied: psycopg2 in c:\\users\\luigg\\anaconda3\\lib\\site-packages (2.9.7)\n",
      "Note: you may need to restart the kernel to use updated packages.\n"
     ]
    }
   ],
   "source": [
    "pip install psycopg2"
   ]
  },
  {
   "cell_type": "code",
   "execution_count": 18,
   "id": "104efba3",
   "metadata": {},
   "outputs": [],
   "source": [
    "import psycopg2 as pg2\n",
    "import pandas as pd"
   ]
  },
  {
   "cell_type": "code",
   "execution_count": 19,
   "id": "0b3a913d",
   "metadata": {},
   "outputs": [],
   "source": [
    "conn = pg2.connect(database='exercises', user='postgres',password='password')"
   ]
  },
  {
   "cell_type": "code",
   "execution_count": 20,
   "id": "02d4b2f4",
   "metadata": {},
   "outputs": [],
   "source": [
    "cur = conn.cursor()"
   ]
  },
  {
   "cell_type": "markdown",
   "id": "a5bb736b",
   "metadata": {},
   "source": [
    "1.\tHow can you retrieve all the information from the cd.facilities table? SELECT * FROM cd.facilities"
   ]
  },
  {
   "cell_type": "code",
   "execution_count": 21,
   "id": "0dc88e5c",
   "metadata": {},
   "outputs": [
    {
     "data": {
      "text/plain": [
       "(0,\n",
       " 'Tennis Court 1',\n",
       " Decimal('5'),\n",
       " Decimal('25'),\n",
       " Decimal('10000'),\n",
       " Decimal('200'))"
      ]
     },
     "execution_count": 21,
     "metadata": {},
     "output_type": "execute_result"
    }
   ],
   "source": [
    "cur.execute('SELECT * FROM cd.facilities') \n",
    "cur.fetchone()"
   ]
  },
  {
   "cell_type": "markdown",
   "id": "ba89579f",
   "metadata": {},
   "source": [
    "2.\tYou want to print out a list of all of the facilities and their cost to members. How would you retrieve a list of only facility names and costs?  "
   ]
  },
  {
   "cell_type": "code",
   "execution_count": 22,
   "id": "6637e78d",
   "metadata": {},
   "outputs": [
    {
     "data": {
      "text/plain": [
       "('Tennis Court 1', Decimal('5'))"
      ]
     },
     "execution_count": 22,
     "metadata": {},
     "output_type": "execute_result"
    }
   ],
   "source": [
    "cur.execute('SELECT name,membercost FROM cd.facilities') \n",
    "cur.fetchone()"
   ]
  },
  {
   "cell_type": "markdown",
   "id": "0510b9b5",
   "metadata": {},
   "source": [
    "3.\tHow can you produce a list of facilities that charge a fee to members?"
   ]
  },
  {
   "cell_type": "code",
   "execution_count": 23,
   "id": "8de73d5d",
   "metadata": {},
   "outputs": [
    {
     "data": {
      "text/plain": [
       "('Tennis Court 1',)"
      ]
     },
     "execution_count": 23,
     "metadata": {},
     "output_type": "execute_result"
    }
   ],
   "source": [
    "cur.execute('SELECT name FROM cd.facilities WHERE membercost >0') \n",
    "cur.fetchone()"
   ]
  },
  {
   "cell_type": "markdown",
   "id": "d95da54d",
   "metadata": {},
   "source": [
    "4.\tHow can you produce a list of facilities that charge a fee to members, and that fee is less than 1/50th of the monthly maintenance cost? Return the facid, facility name, member cost, and monthly maintenance of the facilities in question."
   ]
  },
  {
   "cell_type": "code",
   "execution_count": 24,
   "id": "81599d51",
   "metadata": {},
   "outputs": [
    {
     "data": {
      "text/plain": [
       "(4, 'Massage Room 1', Decimal('35'), Decimal('3000'))"
      ]
     },
     "execution_count": 24,
     "metadata": {},
     "output_type": "execute_result"
    }
   ],
   "source": [
    "cur.execute('SELECT facid,name,membercost,monthlymaintenance FROM cd.facilities WHERE membercost >0 AND membercost <monthlymaintenance/50') \n",
    "cur.fetchone()"
   ]
  },
  {
   "cell_type": "markdown",
   "id": "57530115",
   "metadata": {},
   "source": [
    "5.\tHow can you produce a list of all facilities with the word 'Tennis' in their name? "
   ]
  },
  {
   "cell_type": "code",
   "execution_count": 25,
   "id": "85d9d3f2",
   "metadata": {},
   "outputs": [
    {
     "data": {
      "text/plain": [
       "(0,\n",
       " 'Tennis Court 1',\n",
       " Decimal('5'),\n",
       " Decimal('25'),\n",
       " Decimal('10000'),\n",
       " Decimal('200'))"
      ]
     },
     "execution_count": 25,
     "metadata": {},
     "output_type": "execute_result"
    }
   ],
   "source": [
    "cur.execute(\"SELECT * FROM cd.facilities WHERE name iLIKE '%Tennis%'\") \n",
    "cur.fetchone()"
   ]
  },
  {
   "cell_type": "markdown",
   "id": "33ea5068",
   "metadata": {},
   "source": [
    "6.\tHow can you retrieve the details of facilities with ID 1 and 5? Try to do it without using the OR operator."
   ]
  },
  {
   "cell_type": "code",
   "execution_count": 26,
   "id": "e2e6a6b0",
   "metadata": {},
   "outputs": [
    {
     "data": {
      "text/plain": [
       "(1,\n",
       " 'Tennis Court 2',\n",
       " Decimal('5'),\n",
       " Decimal('25'),\n",
       " Decimal('8000'),\n",
       " Decimal('200'))"
      ]
     },
     "execution_count": 26,
     "metadata": {},
     "output_type": "execute_result"
    }
   ],
   "source": [
    "cur.execute('SELECT * FROM cd.facilities WHERE facid IN (1,5)') \n",
    "cur.fetchone()"
   ]
  },
  {
   "cell_type": "markdown",
   "id": "384bcdb2",
   "metadata": {},
   "source": [
    "7.\tHow can you produce a list of members who joined after the start of September 2012? Return the memid, surname, firstname, and joindate of the members in question."
   ]
  },
  {
   "cell_type": "code",
   "execution_count": 27,
   "id": "30fe6065",
   "metadata": {},
   "outputs": [
    {
     "data": {
      "text/plain": [
       "(24, 'Sarwin', 'Ramnaresh', datetime.datetime(2012, 9, 1, 8, 44, 42))"
      ]
     },
     "execution_count": 27,
     "metadata": {},
     "output_type": "execute_result"
    }
   ],
   "source": [
    "cur.execute(\"SELECT memid, surname, firstname,joindate FROM cd.members WHERE joindate > '2012-09-01'\") \n",
    "cur.fetchone()"
   ]
  },
  {
   "cell_type": "markdown",
   "id": "f6065246",
   "metadata": {},
   "source": [
    "8.\tHow can you produce an ordered list of the first 10 surnames in the members table? The list must not contain duplicates."
   ]
  },
  {
   "cell_type": "code",
   "execution_count": 28,
   "id": "74199841",
   "metadata": {},
   "outputs": [
    {
     "data": {
      "text/plain": [
       "('Bader',)"
      ]
     },
     "execution_count": 28,
     "metadata": {},
     "output_type": "execute_result"
    }
   ],
   "source": [
    "cur.execute(\"SELECT DISTINCT surname FROM cd.members ORDER BY surname LIMIT 10\") \n",
    "cur.fetchone()"
   ]
  },
  {
   "cell_type": "markdown",
   "id": "979053c1",
   "metadata": {},
   "source": [
    "9.\tYou'd like to get the signup date of your last member. How can you retrieve this information?"
   ]
  },
  {
   "cell_type": "code",
   "execution_count": 29,
   "id": "636b0fa2",
   "metadata": {},
   "outputs": [
    {
     "data": {
      "text/plain": [
       "(datetime.datetime(2012, 9, 26, 18, 8, 45),)"
      ]
     },
     "execution_count": 29,
     "metadata": {},
     "output_type": "execute_result"
    }
   ],
   "source": [
    "cur.execute(\"SELECT joindate FROM cd.members ORDER BY memid DESC LIMIT 1\") \n",
    "cur.fetchone()"
   ]
  },
  {
   "cell_type": "markdown",
   "id": "94049d2a",
   "metadata": {},
   "source": [
    "10.\tProduce a count of the number of facilities that have a cost to guests of 10 or more."
   ]
  },
  {
   "cell_type": "code",
   "execution_count": 30,
   "id": "c5d7ef65",
   "metadata": {},
   "outputs": [
    {
     "data": {
      "text/plain": [
       "(6,)"
      ]
     },
     "execution_count": 30,
     "metadata": {},
     "output_type": "execute_result"
    }
   ],
   "source": [
    "cur.execute(\"SELECT COUNT(*) FROM cd.facilities where guestcost >=10\") \n",
    "cur.fetchone()"
   ]
  },
  {
   "cell_type": "markdown",
   "id": "5db2fe8b",
   "metadata": {},
   "source": [
    "11.\tProduce a list of the total number of slots booked per facility in the month of September 2012. Produce an output table consisting of facility id and slots, sorted by the number of slots."
   ]
  },
  {
   "cell_type": "code",
   "execution_count": 31,
   "id": "bd09c6b8",
   "metadata": {},
   "outputs": [
    {
     "data": {
      "text/plain": [
       "(5, 122)"
      ]
     },
     "execution_count": 31,
     "metadata": {},
     "output_type": "execute_result"
    }
   ],
   "source": [
    "cur.execute(\"SELECT facid, SUM(slots) FROM cd.bookings WHERE starttime >= '2012-09-01' and starttime < '2012-10-01' GROUP BY facid ORDER BY sum ASC\") \n",
    "cur.fetchone()"
   ]
  },
  {
   "cell_type": "markdown",
   "id": "4acd5e5b",
   "metadata": {},
   "source": [
    "12.\tProduce a list of facilities with more than 1000 slots booked. Produce an output table consisting of facility id and total slots, sorted by facility id."
   ]
  },
  {
   "cell_type": "code",
   "execution_count": 32,
   "id": "89c8c776",
   "metadata": {},
   "outputs": [
    {
     "data": {
      "text/plain": [
       "(6, 1104)"
      ]
     },
     "execution_count": 32,
     "metadata": {},
     "output_type": "execute_result"
    }
   ],
   "source": [
    "cur.execute(\"SELECT facid, SUM(slots) as sum_slots FROM cd.bookings GROUP BY facid HAVING SUM(slots) >1000 ORDER BY sum_slots ASC\") \n",
    "cur.fetchone()"
   ]
  },
  {
   "cell_type": "markdown",
   "id": "2d28ed1c",
   "metadata": {},
   "source": [
    "13.\tHow can you produce a list of the start times for bookings for tennis courts, for the date '2012-09-21'? Return a list of start time and facility name pairings, ordered by the time."
   ]
  },
  {
   "cell_type": "code",
   "execution_count": 33,
   "id": "f2953664",
   "metadata": {},
   "outputs": [
    {
     "data": {
      "text/plain": [
       "(datetime.datetime(2012, 9, 21, 8, 0), 'Tennis Court 1')"
      ]
     },
     "execution_count": 33,
     "metadata": {},
     "output_type": "execute_result"
    }
   ],
   "source": [
    "cur.execute(\"SELECT starttime, name FROM cd.bookings LEFT JOIN cd.facilities on cd.bookings.facid =  cd.facilities.facid WHERE starttime >= '2012-09-21' AND starttime < '2012-09-22' AND cd.facilities.name LIKE 'Tennis Court%' ORDER BY starttime\") \n",
    "cur.fetchone()"
   ]
  },
  {
   "cell_type": "markdown",
   "id": "1142813f",
   "metadata": {},
   "source": [
    "14.\tHow can you produce a list of the start times for bookings by members named 'David Farrell'?"
   ]
  },
  {
   "cell_type": "code",
   "execution_count": 34,
   "id": "4b9d69cf",
   "metadata": {},
   "outputs": [
    {
     "data": {
      "text/plain": [
       "('David Farrell', datetime.datetime(2012, 9, 18, 9, 0))"
      ]
     },
     "execution_count": 34,
     "metadata": {},
     "output_type": "execute_result"
    }
   ],
   "source": [
    "cur.execute(\"SELECT CONCAT(firstname,' ',surname) AS fullname,starttime FROM cd.bookings LEFT JOIN cd.members ON cd.bookings.memid =  cd.members.memid WHERE cd.members.firstname LIKE 'David' AND cd.members.surname LIKE 'Farrell' ORDER BY starttime\") \n",
    "cur.fetchone()"
   ]
  }
 ],
 "metadata": {
  "kernelspec": {
   "display_name": "Python 3 (ipykernel)",
   "language": "python",
   "name": "python3"
  },
  "language_info": {
   "codemirror_mode": {
    "name": "ipython",
    "version": 3
   },
   "file_extension": ".py",
   "mimetype": "text/x-python",
   "name": "python",
   "nbconvert_exporter": "python",
   "pygments_lexer": "ipython3",
   "version": "3.9.13"
  }
 },
 "nbformat": 4,
 "nbformat_minor": 5
}

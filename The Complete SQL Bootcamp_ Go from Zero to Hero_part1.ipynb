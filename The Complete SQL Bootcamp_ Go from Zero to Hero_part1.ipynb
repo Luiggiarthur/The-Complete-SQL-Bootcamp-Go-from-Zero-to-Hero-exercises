{
 "cells": [
  {
   "cell_type": "markdown",
   "id": "5015e4ab",
   "metadata": {},
   "source": [
    "# Exercises from The Complete SQL Bootcamp: Go from Zero to Hero"
   ]
  },
  {
   "cell_type": "markdown",
   "id": "208f5830",
   "metadata": {},
   "source": [
    "## General Challenge 1 and ASSESSMENT TEST 1\n",
    "\n",
    "Both of this exercises will use the dvdrental database."
   ]
  },
  {
   "cell_type": "markdown",
   "id": "04cc083c",
   "metadata": {},
   "source": [
    "Installing and connecting the tools to use SQL querys in the jupyter notebook:"
   ]
  },
  {
   "cell_type": "code",
   "execution_count": 86,
   "id": "39c23142",
   "metadata": {},
   "outputs": [
    {
     "name": "stdout",
     "output_type": "stream",
     "text": [
      "Requirement already satisfied: psycopg2 in c:\\users\\luigg\\anaconda3\\lib\\site-packages (2.9.7)\n",
      "Note: you may need to restart the kernel to use updated packages.\n"
     ]
    }
   ],
   "source": [
    "pip install psycopg2"
   ]
  },
  {
   "cell_type": "code",
   "execution_count": 87,
   "id": "297d6c2c",
   "metadata": {},
   "outputs": [],
   "source": [
    "import psycopg2 as pg2\n",
    "import pandas as pd"
   ]
  },
  {
   "cell_type": "code",
   "execution_count": 88,
   "id": "8ffb1330",
   "metadata": {},
   "outputs": [],
   "source": [
    "conn = pg2.connect(database='dvdrental', user='postgres',password='password')"
   ]
  },
  {
   "cell_type": "code",
   "execution_count": 89,
   "id": "74a9f22d",
   "metadata": {},
   "outputs": [],
   "source": [
    "cur = conn.cursor()"
   ]
  },
  {
   "cell_type": "markdown",
   "id": "ac9cb801",
   "metadata": {},
   "source": [
    "### General Challenge 1"
   ]
  },
  {
   "cell_type": "markdown",
   "id": "0f301707",
   "metadata": {},
   "source": [
    "How many payment transactions were greater than $5.00?"
   ]
  },
  {
   "cell_type": "code",
   "execution_count": 90,
   "id": "19b783be",
   "metadata": {},
   "outputs": [
    {
     "data": {
      "text/plain": [
       "(3618,)"
      ]
     },
     "execution_count": 90,
     "metadata": {},
     "output_type": "execute_result"
    }
   ],
   "source": [
    "cur.execute('SELECT COUNT(amount) FROM payment WHERE amount > 5') \n",
    "cur.fetchone()"
   ]
  },
  {
   "cell_type": "markdown",
   "id": "d513c7ce",
   "metadata": {},
   "source": [
    "How many actors have a first name that starts with the letter P?"
   ]
  },
  {
   "cell_type": "code",
   "execution_count": 91,
   "id": "78e4eb37",
   "metadata": {},
   "outputs": [
    {
     "data": {
      "text/plain": [
       "(5,)"
      ]
     },
     "execution_count": 91,
     "metadata": {},
     "output_type": "execute_result"
    }
   ],
   "source": [
    "cur.execute(\"SELECT COUNT(first_name) FROM actor WHERE first_name LIKE 'P%' \") \n",
    "cur.fetchone()"
   ]
  },
  {
   "cell_type": "markdown",
   "id": "b595fc27",
   "metadata": {},
   "source": [
    "How many unique districts are our customers from?"
   ]
  },
  {
   "cell_type": "code",
   "execution_count": 92,
   "id": "c747b131",
   "metadata": {},
   "outputs": [
    {
     "data": {
      "text/plain": [
       "(378,)"
      ]
     },
     "execution_count": 92,
     "metadata": {},
     "output_type": "execute_result"
    }
   ],
   "source": [
    "cur.execute(\"SELECT COUNT(DISTINCT(district)) FROM address \") \n",
    "cur.fetchone()"
   ]
  },
  {
   "cell_type": "markdown",
   "id": "ed5b4053",
   "metadata": {},
   "source": [
    "Retrieve the list of names for those distinct districts from the previous question."
   ]
  },
  {
   "cell_type": "code",
   "execution_count": 93,
   "id": "5eb0f1db",
   "metadata": {},
   "outputs": [
    {
     "data": {
      "text/plain": [
       "[('Aden',),\n",
       " ('Eastern Visayas',),\n",
       " ('Vaduz',),\n",
       " ('Tokat',),\n",
       " ('Anzotegui',),\n",
       " ('Saint-Denis',),\n",
       " ('Chollanam',),\n",
       " ('Chihuahua',),\n",
       " ('Nyanza',),\n",
       " ('Changhwa',),\n",
       " ('Tokyo-to',),\n",
       " ('Santa F',),\n",
       " ('Denizli',),\n",
       " ('Noord-Brabant',),\n",
       " ('Hubei',),\n",
       " ('Zulia',),\n",
       " ('Paran',),\n",
       " ('Mwanza',),\n",
       " ('Nova Scotia',),\n",
       " ('Caraga',),\n",
       " ('Batman',),\n",
       " ('Assam',),\n",
       " ('Hanoi',),\n",
       " ('Andhra Pradesh',),\n",
       " ('Battambang',),\n",
       " ('Washington',),\n",
       " ('Madhya Pradesh',),\n",
       " ('Gauteng',),\n",
       " ('Adana',),\n",
       " ('Basel-Stadt',),\n",
       " ('Par',),\n",
       " ('Risaralda',),\n",
       " ('Jiangxi',),\n",
       " ('West Bengali',),\n",
       " ('Tennessee',),\n",
       " ('Copperbelt',),\n",
       " ('Krim',),\n",
       " ('Arecibo',),\n",
       " ('Guangdong',),\n",
       " ('Shiga',),\n",
       " ('Santa Catarina',),\n",
       " ('Vojvodina',),\n",
       " ('Maharashtra',),\n",
       " ('Northern Mindanao',),\n",
       " ('Rio Grande do Sul',),\n",
       " ('Ynlin',),\n",
       " ('Scotland',),\n",
       " ('Edo & Delta',),\n",
       " ('Central Visayas',),\n",
       " ('al-Manama',),\n",
       " ('North West',),\n",
       " ('Kaohsiung',),\n",
       " ('Baja California Sur',),\n",
       " ('Chuquisaca',),\n",
       " ('Nampula',),\n",
       " ('Ibaragi',),\n",
       " ('Carabobo',),\n",
       " ('Provence-Alpes-Cte',),\n",
       " ('Mxico',),\n",
       " ('Smolensk',),\n",
       " ('Qaraghandy',),\n",
       " ('Funafuti',),\n",
       " ('Haryana',),\n",
       " ('Saarland',),\n",
       " ('al-Qadarif',),\n",
       " ('Tabora',),\n",
       " ('Pyongyang-si',),\n",
       " ('Tamil Nadu',),\n",
       " ('Steiermark',),\n",
       " ('Baijeri',),\n",
       " ('Adygea',),\n",
       " ('Yamaguchi',),\n",
       " ('Georgia',),\n",
       " ('Northern Cape',),\n",
       " ('Baskimaa',),\n",
       " ('Santiago',),\n",
       " ('Tucumn',),\n",
       " ('Lilongwe',),\n",
       " ('Sisilia',),\n",
       " ('Markazi',),\n",
       " ('Hamilton',),\n",
       " ('Liaoning',),\n",
       " ('Chisinau',),\n",
       " ('Sofala',),\n",
       " ('Tutuila',),\n",
       " ('Distrito Federal',),\n",
       " ('Nantou',),\n",
       " ('Bukarest',),\n",
       " ('West Greece',),\n",
       " ('Miyazaki',),\n",
       " ('Hawalli',),\n",
       " ('Rio de Janeiro',),\n",
       " ('Central Mindanao',),\n",
       " ('East Java',),\n",
       " ('British Colombia',),\n",
       " ('Botosani',),\n",
       " ('Bern',),\n",
       " ('Northern',),\n",
       " ('Nordrhein-Westfalen',),\n",
       " ('Kerman',),\n",
       " ('Balikesir',),\n",
       " ('Kitaa',),\n",
       " ('Tamaulipas',),\n",
       " ('Gujarat',),\n",
       " ('Piemonte',),\n",
       " ('Nothwest Border Prov',),\n",
       " ('Kurgan',),\n",
       " ('Kursk',),\n",
       " ('Salzburg',),\n",
       " ('Kaduna',),\n",
       " ('Hodeida',),\n",
       " ('Osmaniye',),\n",
       " ('Ohio',),\n",
       " ('Asuncin',),\n",
       " ('Kerala',),\n",
       " ('Midi-Pyrnes',),\n",
       " ('Batna',),\n",
       " ('Ponce',),\n",
       " ('al-Sharqiya',),\n",
       " ('Lombardia',),\n",
       " ('Sichuan',),\n",
       " ('East Kasai',),\n",
       " ('Nagasaki',),\n",
       " ('Perak',),\n",
       " ('National Capital Reg',),\n",
       " ('Volgograd',),\n",
       " ('Bretagne',),\n",
       " ('Skne ln',),\n",
       " ('England',),\n",
       " ('Bauchi & Gombe',),\n",
       " ('Western Cape',),\n",
       " ('Xinxiang',),\n",
       " ('Mie',),\n",
       " ('Gifu',),\n",
       " ('Nakhon Sawan',),\n",
       " ('Kanagawa',),\n",
       " ('Southern Mindanao',),\n",
       " ('New Hampshire',),\n",
       " ('Haskovo',),\n",
       " ('Sanaa',),\n",
       " ('Minsk',),\n",
       " ('Brunei and Muara',),\n",
       " ('Tete',),\n",
       " ('Miranda',),\n",
       " ('Oyo & Osun',),\n",
       " ('Kyonggi',),\n",
       " ('Skikda',),\n",
       " ('Oriental',),\n",
       " ('St George',),\n",
       " ('Kowloon and New Kowl',),\n",
       " ('Kujawsko-Pomorskie',),\n",
       " ('Florida',),\n",
       " ('Slaskie',),\n",
       " ('Baja California',),\n",
       " ('Wielkopolskie',),\n",
       " ('Inner Mongolia',),\n",
       " ('Khanh Hoa',),\n",
       " ('Krasnojarsk',),\n",
       " ('Pohjois-Pohjanmaa',),\n",
       " ('Severn Morava',),\n",
       " ('Punjab',),\n",
       " ('Sumqayit',),\n",
       " ('Gaziantep',),\n",
       " ('St Thomas',),\n",
       " ('Sumy',),\n",
       " ('Massachusetts',),\n",
       " ('Gansu',),\n",
       " ('Osaka',),\n",
       " ('Kabol',),\n",
       " ('Haiphong',),\n",
       " ('Cheju',),\n",
       " ('Illinois',),\n",
       " ('Coahuila de Zaragoza',),\n",
       " ('Virginia',),\n",
       " ('Chiayi',),\n",
       " ('Minas Gerais',),\n",
       " ('Gurico',),\n",
       " ('Hebei',),\n",
       " ('Shaba',),\n",
       " ('Buenos Aires',),\n",
       " ('Asturia',),\n",
       " ('KwaZulu-Natal',),\n",
       " ('Mandalay',),\n",
       " ('Hmelnytskyi',),\n",
       " ('Fukushima',),\n",
       " ('Taipei',),\n",
       " ('Baden-Wrttemberg',),\n",
       " ('Saitama',),\n",
       " ('Tadla-Azilal',),\n",
       " ('Galicia',),\n",
       " ('Gelderland',),\n",
       " ('al-Qalyubiya',),\n",
       " ('Attika',),\n",
       " ('Irkutsk',),\n",
       " ('Gois',),\n",
       " ('Zufar',),\n",
       " ('Nonthaburi',),\n",
       " ('Anhalt Sachsen',),\n",
       " ('Tongatapu',),\n",
       " ('Friuli-Venezia Giuli',),\n",
       " ('Pietari',),\n",
       " ('Namibe',),\n",
       " ('Okinawa',),\n",
       " ('Free State',),\n",
       " ('Central Java',),\n",
       " ('Tel Aviv',),\n",
       " ('Jalisco',),\n",
       " ('Oaxaca',),\n",
       " ('Fejr',),\n",
       " ('Sumatera Selatan',),\n",
       " ('Kwara & Kogi',),\n",
       " ('Puebla',),\n",
       " ('Cear',),\n",
       " ('Heilongjiang',),\n",
       " ('Fujian',),\n",
       " ('Sokoto & Kebbi & Zam',),\n",
       " ('Addis Abeba',),\n",
       " ('Nebraska',),\n",
       " ('Sousse',),\n",
       " ('Nord-Ouest',),\n",
       " ('Stavropol',),\n",
       " ('Mahajanga',),\n",
       " ('Esprito Santo',),\n",
       " ('Vaud',),\n",
       " ('OHiggins',),\n",
       " ('Tartumaa',),\n",
       " ('Mazowieckie',),\n",
       " ('Kaliningrad',),\n",
       " ('Colorado',),\n",
       " ('Abu Dhabi',),\n",
       " ('Bchar',),\n",
       " ('Vilna',),\n",
       " ('Eskisehir',),\n",
       " ('West Java',),\n",
       " ('Baki',),\n",
       " ('Mekka',),\n",
       " ('Taka-Karpatia',),\n",
       " ('Ha Darom',),\n",
       " ('Valle',),\n",
       " ('Ahal',),\n",
       " ('Antofagasta',),\n",
       " ('Masqat',),\n",
       " ('Usak',),\n",
       " ('Shandong',),\n",
       " ('',),\n",
       " ('Callao',),\n",
       " ('Henan',),\n",
       " ('Ninawa',),\n",
       " ('Benguela',),\n",
       " ('Kilis',),\n",
       " ('QLD',),\n",
       " ('Michigan',),\n",
       " ('Dhaka',),\n",
       " ('Kalimantan Barat',),\n",
       " ('Chaharmahal va Bakht',),\n",
       " ('Central Serbia',),\n",
       " ('Istanbul',),\n",
       " ('Nam Ha',),\n",
       " ('Sivas',),\n",
       " ('La Paz',),\n",
       " ('Chari-Baguirmi',),\n",
       " ('Alberta',),\n",
       " ('Chimborazo',),\n",
       " ('Hiroshima',),\n",
       " ('California',),\n",
       " ('La Romana',),\n",
       " ('Komi',),\n",
       " ('Jiangsu',),\n",
       " ('Jakarta Raya',),\n",
       " ('Kyongsangbuk',),\n",
       " ('Ziguinchor',),\n",
       " ('Tabuk',),\n",
       " ('Sinaloa',),\n",
       " ('Sharja',),\n",
       " ('Bratislava',),\n",
       " ('Cayenne',),\n",
       " ('Songkhla',),\n",
       " ('Yerevan',),\n",
       " ('Uttar Pradesh',),\n",
       " ('Okayama',),\n",
       " ('Ondo & Ekiti',),\n",
       " ('Utrecht',),\n",
       " ('Bursa',),\n",
       " ('Taizz',),\n",
       " ('North Austria',),\n",
       " ('Hidalgo',),\n",
       " ('Jharkhand',),\n",
       " ('Rajasthan',),\n",
       " ('Ningxia',),\n",
       " ('Puerto Plata',),\n",
       " ('Missouri',),\n",
       " ('Loja',),\n",
       " ('al-Daqahliya',),\n",
       " ('Karnataka',),\n",
       " ('Boyac',),\n",
       " ('Tuvassia',),\n",
       " ('Pays de la Loire',),\n",
       " ('Liepaja',),\n",
       " ('Nizni Novgorod',),\n",
       " ('Moskova',),\n",
       " ('Coquimbo',),\n",
       " ('Tianjin',),\n",
       " ('Khartum',),\n",
       " ('Guerrero',),\n",
       " ('Drenthe',),\n",
       " ('Ivanovo',),\n",
       " ('Shimane',),\n",
       " ('Michoacn de Ocampo',),\n",
       " ('Kirov',),\n",
       " ('Piura',),\n",
       " ('Streymoyar',),\n",
       " ('Sarawak',),\n",
       " ('East Azerbaidzan',),\n",
       " ('So Paulo',),\n",
       " ('Huanuco',),\n",
       " ('Hainan',),\n",
       " ('Zhejiang',),\n",
       " ('Mogiljov',),\n",
       " ('Aceh',),\n",
       " ('Kermanshah',),\n",
       " ('Apulia',),\n",
       " ('Campeche',),\n",
       " ('Pernambuco',),\n",
       " ('Central',),\n",
       " ('Moscow (City)',),\n",
       " ('Dolnoslaskie',),\n",
       " ('Qina',),\n",
       " ('Shanxi',),\n",
       " ('Chiba',),\n",
       " ('Ruse',),\n",
       " ('Ishikawa',),\n",
       " ('Gumma',),\n",
       " ('Guanajuato',),\n",
       " ('North Carolina',),\n",
       " ('Tahiti',),\n",
       " ('Manab',),\n",
       " ('Cagayan Valley',),\n",
       " ('Nagano',),\n",
       " ('Kedah',),\n",
       " ('Banjul',),\n",
       " ('Hunan',),\n",
       " ('Roraima',),\n",
       " ('Lima',),\n",
       " ('Qubec',),\n",
       " ('Sagaing',),\n",
       " ('Bihar',),\n",
       " ('Rabat-Sal-Zammour-Z',),\n",
       " ('Crdoba',),\n",
       " ('Pavlodar',),\n",
       " ('Zanzibar West',),\n",
       " ('Toscana',),\n",
       " ('Lipetsk',),\n",
       " ('Jaroslavl',),\n",
       " ('Ontario',),\n",
       " ('Caquet',),\n",
       " ('Lubelskie',),\n",
       " ('Asir',),\n",
       " ('Sawhaj',),\n",
       " ('Alto Paran',),\n",
       " ('Kang-won',),\n",
       " ('Southern Tagalog',),\n",
       " ('Sucre',),\n",
       " ('Jilin',),\n",
       " ('Morelos',),\n",
       " ('Sulawesi Utara',),\n",
       " ('Phnom Penh',),\n",
       " ('Kalmykia',),\n",
       " ('Tatarstan',),\n",
       " ('Esfahan',),\n",
       " ('Centre',),\n",
       " ('Daugavpils',),\n",
       " ('Central Luzon',),\n",
       " ('Texas',),\n",
       " ('Rostov-na-Donu',),\n",
       " ('Sind',),\n",
       " ('Nghe An',),\n",
       " ('Ktahya',),\n",
       " ('Veracruz',)]"
      ]
     },
     "execution_count": 93,
     "metadata": {},
     "output_type": "execute_result"
    }
   ],
   "source": [
    "cur.execute(\"SELECT DISTINCT(district) FROM address \") \n",
    "cur.fetchmany(378)"
   ]
  },
  {
   "cell_type": "markdown",
   "id": "6202b97c",
   "metadata": {},
   "source": [
    "How many films have a rating of R and a replacement cost between $5 and $15?"
   ]
  },
  {
   "cell_type": "code",
   "execution_count": 94,
   "id": "d83c5e85",
   "metadata": {},
   "outputs": [
    {
     "data": {
      "text/plain": [
       "[(52,)]"
      ]
     },
     "execution_count": 94,
     "metadata": {},
     "output_type": "execute_result"
    }
   ],
   "source": [
    "cur.execute(\"SELECT COUNT(*) FROM film WHERE rating = 'R' AND replacement_cost BETWEEN 5 AND 15\") \n",
    "cur.fetchmany()"
   ]
  },
  {
   "cell_type": "markdown",
   "id": "fbfa0818",
   "metadata": {},
   "source": [
    "How many films have the word Truman somewhere in the title?"
   ]
  },
  {
   "cell_type": "code",
   "execution_count": 95,
   "id": "a115e7a4",
   "metadata": {},
   "outputs": [
    {
     "data": {
      "text/plain": [
       "[(5,)]"
      ]
     },
     "execution_count": 95,
     "metadata": {},
     "output_type": "execute_result"
    }
   ],
   "source": [
    "cur.execute(\"SELECT COUNT(*) FROM film WHERE title LIKE '%Truman%'\") \n",
    "cur.fetchmany()"
   ]
  },
  {
   "cell_type": "markdown",
   "id": "be1fcf61",
   "metadata": {},
   "source": [
    "### ASSESSMENT TEST 1"
   ]
  },
  {
   "cell_type": "markdown",
   "id": "690f7b38",
   "metadata": {},
   "source": [
    "1. Return the customer IDs of customers who have spent at least $110 with the staff member who has an ID of 2."
   ]
  },
  {
   "cell_type": "code",
   "execution_count": 96,
   "id": "db7c2011",
   "metadata": {},
   "outputs": [
    {
     "data": {
      "text/plain": [
       "[(187, Decimal('110.81')), (148, Decimal('110.78'))]"
      ]
     },
     "execution_count": 96,
     "metadata": {},
     "output_type": "execute_result"
    }
   ],
   "source": [
    "cur.execute(\"SELECT customer_id,SUM(amount) FROM payment WHERE staff_id = 2 GROUP BY customer_id HAVING SUM(amount) > 110\") \n",
    "cur.fetchmany(2)"
   ]
  },
  {
   "cell_type": "markdown",
   "id": "1609893f",
   "metadata": {},
   "source": [
    "2. How many films begin with the letter J?"
   ]
  },
  {
   "cell_type": "code",
   "execution_count": 97,
   "id": "3cc5f7a0",
   "metadata": {},
   "outputs": [
    {
     "data": {
      "text/plain": [
       "[(20,)]"
      ]
     },
     "execution_count": 97,
     "metadata": {},
     "output_type": "execute_result"
    }
   ],
   "source": [
    "cur.execute(\"SELECT COUNT(title) FROM film WHERE title LIKE 'J%'\") \n",
    "cur.fetchmany()"
   ]
  },
  {
   "cell_type": "markdown",
   "id": "a1028a6e",
   "metadata": {},
   "source": [
    "3. What customer has the highest customer ID number whose name starts with an 'E' and has an address ID lower than 500?"
   ]
  },
  {
   "cell_type": "code",
   "execution_count": 98,
   "id": "ffddcf72",
   "metadata": {},
   "outputs": [
    {
     "data": {
      "text/plain": [
       "[('Eddie', 'Tomlin')]"
      ]
     },
     "execution_count": 98,
     "metadata": {},
     "output_type": "execute_result"
    }
   ],
   "source": [
    "cur.execute(\"SELECT first_name,last_name FROM customer WHERE first_name LIKE 'E%' AND address_id < 500 ORDER BY customer_id desc LIMIT 1\") \n",
    "cur.fetchmany()"
   ]
  }
 ],
 "metadata": {
  "kernelspec": {
   "display_name": "Python 3 (ipykernel)",
   "language": "python",
   "name": "python3"
  },
  "language_info": {
   "codemirror_mode": {
    "name": "ipython",
    "version": 3
   },
   "file_extension": ".py",
   "mimetype": "text/x-python",
   "name": "python",
   "nbconvert_exporter": "python",
   "pygments_lexer": "ipython3",
   "version": "3.9.13"
  }
 },
 "nbformat": 4,
 "nbformat_minor": 5
}
